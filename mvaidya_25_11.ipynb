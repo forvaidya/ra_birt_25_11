{
  "nbformat": 4,
  "nbformat_minor": 0,
  "metadata": {
    "colab": {
      "name": "mvaidya-25-11.ipynb",
      "provenance": [],
      "authorship_tag": "ABX9TyPqdbi+aujiHvytqhB8mgua",
      "include_colab_link": true
    },
    "kernelspec": {
      "name": "python3",
      "display_name": "Python 3"
    },
    "language_info": {
      "name": "python"
    }
  },
  "cells": [
    {
      "cell_type": "markdown",
      "metadata": {
        "id": "view-in-github",
        "colab_type": "text"
      },
      "source": [
        "<a href=\"https://colab.research.google.com/github/forvaidya/ra_birt_25_11/blob/main/mvaidya_25_11.ipynb\" target=\"_parent\"><img src=\"https://colab.research.google.com/assets/colab-badge.svg\" alt=\"Open In Colab\"/></a>"
      ]
    },
    {
      "cell_type": "markdown",
      "metadata": {
        "id": "Xuqa3HWPnekb"
      },
      "source": [
        ""
      ]
    },
    {
      "cell_type": "code",
      "metadata": {
        "id": "Z00TwddInmp5"
      },
      "source": [
        "import json\n",
        "import requests\n"
      ],
      "execution_count": 4,
      "outputs": []
    }
  ]
}